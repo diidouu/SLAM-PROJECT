{
  "nbformat": 4,
  "nbformat_minor": 0,
  "metadata": {
    "colab": {
      "provenance": [],
      "authorship_tag": "ABX9TyOSXuEvYNQTIUIPcSzj84IL",
      "include_colab_link": true
    },
    "kernelspec": {
      "name": "python3",
      "display_name": "Python 3"
    },
    "language_info": {
      "name": "python"
    }
  },
  "cells": [
    {
      "cell_type": "markdown",
      "metadata": {
        "id": "view-in-github",
        "colab_type": "text"
      },
      "source": [
        "<a href=\"https://colab.research.google.com/github/diidouu/SLAM-PROJECT/blob/main/projectRobotic.ipynb\" target=\"_parent\"><img src=\"https://colab.research.google.com/assets/colab-badge.svg\" alt=\"Open In Colab\"/></a>"
      ]
    },
    {
      "cell_type": "markdown",
      "source": [
        "# **Bayesian Filtering Project : Simultaneous SLAM (Localization and Cartography) - EKF**\n",
        "# 1. Problem definition :\n",
        "The SLAM challenge can be seen as the *'chicken and egg problem'* :\n",
        "\n",
        "\n",
        "*   To build a precise map of an unknown environment, a robot must know its position at each instant.\n",
        "*   To locate itself with precision, a robot needs a precise map of the environment he is in.\n",
        "\n",
        "SLAM consists in resolving these two problems in the same time. So, the goal is to estimate in real time an ***augmented state*** that contains :\n",
        "\n",
        "\n",
        "*   The position and orientation of the robot (𝑥, 𝒚, θ)\n",
        "*   The position of all static landmarks that the robot discovered ( (lx1,ly1), (lx2, ly2), ..).\n",
        "\n",
        "This problem will be tackled with a 2D simulation in which a robot is equipped with captors that allow the robot to measure distance and angle with the landmark (this measures will be in interference with noise).\n",
        "\n",
        "# 2. Algorithm and Development environment :\n",
        "\n",
        "To resolve this non-linear estimation problem (trigonometry in movement and observation models are non-linear), we will use the ***Extended Kalman Filter (EKF)***. It is based on cycles of *Prediction - Correction* :\n",
        "\n",
        "\n",
        "*   *Prediction* : The robot moves. Its new position is predicted thanks to the movement model. However, the likelihood decreases.\n",
        "*   *Correction* : The robot observes one or several landmarks. This observation is used to correct the estimated position of the robot and landmarks in the *Prediction step.* If a new landmark is discovered, the map is dynamically extended. Thus, the likelihood increases.\n",
        "\n",
        "The system state is described by a Gaussian distribution, defined by a state vector *μ* (this vector contains position and orientation of the landmarks) and a covariance matrix Σ that contains the likelihood and correlations between all state variables.\n",
        "\n",
        "This project is developped in *Python3* in a *Google Colab notebook*. This environment has been chosen because of its set up simplicity and its visualization tools. The main libraries used are :\n",
        "\n",
        "\n",
        "*   Numpy\n",
        "*   Matplotlib\n",
        "\n",
        "\n",
        "\n"
      ],
      "metadata": {
        "id": "h0iaCErbelhH"
      }
    },
    {
      "cell_type": "markdown",
      "source": [
        "# **Step 1 - Creation of the virtual world and the simulation**\n",
        "# Objective\n",
        "Before estimating whatever we want, we need a perfect simulated environment with no noise. This environment will be our ***ground truth***. It will be our absolute reference which we will compare our filter's estimations performance with.\n",
        "# Key components\n",
        "\n",
        "\n",
        "1.   ***Landmarks*** : these are static points in our world. They will be really useful for localization. We define them as coordinates list (𝑥,𝑦).\n",
        "2.   ***True trajectory of the robot*** : It is the exact path that the robot follows. We generate it by applying a perfect cinematic movement model thanks to control commands (linear velocity 𝑣 and angular velocity ω).\n",
        "3. ***Perfect measures of captors*** : We simulate what captors would measure in an ideal situation/world. For each landmark, we calculate the exact euclidean distance and angle (with respect to the robot) by using simple geometric relations such *sqrt* and *arctan2*.\n",
        "\n",
        "The visualization of these key components will give us a clear view of the simulation in which our EKF-SLAM will try to reconstruct from noisy data.\n",
        "\n"
      ],
      "metadata": {
        "id": "2DH3UvikmT4J"
      }
    },
    {
      "cell_type": "code",
      "source": [
        "import numpy as np\n",
        "import matplotlib.pyplot as plt\n",
        "\n",
        "# --- 1.1. Definition of landmarks position ---\n",
        "# These are our reference points in the world.\n",
        "\n",
        "landmarks = np.array([\n",
        "    [10.0,10.0],\n",
        "    [10.0,-10.0],\n",
        "    [-10.0,10.0],\n",
        "    [-10.0,-10.0],\n",
        "    [0,20.0]\n",
        "])\n",
        "\n",
        "\n",
        "# --- 1.2. Definition of the true trajectory of the robot (Ground truth) ---\n",
        "# This is the perfect path that the robot follows.\n",
        "\n",
        "# Simulation parameters\n",
        "dt = 0.1  # time interval (seconds)\n",
        "SIMULATION_TIME = 20.0  # total duration of the simulation\n",
        "NUM_STEPS = int(SIMULATION_TIME / dt)  # total number of simulation steps\n",
        "\n",
        "# Trajectory storage\n",
        "true_path = np.zeros((NUM_STEPS , 3))  # each line is [x , y , theta]\n",
        "# initial position is (0 , 0 , 0)\n",
        "\n",
        "# Constant control commands to create a circular trajectory\n",
        "v = 1.0  # constant linear velocity (m/s)\n",
        "omega = 0.5  # constant angular velocity (rad/s)\n",
        "\n",
        "# Trajectory generation step by step\n",
        "for t in range (1, NUM_STEPS):\n",
        "\n",
        "  # Recover precedent position\n",
        "  prev_x, prev_y, prev_theta = true_path[t-1]\n",
        "\n",
        "  # Apply perfect cinematic movement model\n",
        "  theta = prev_theta + omega * dt\n",
        "  x = prev_x + v * np.cos(theta) * dt\n",
        "  y = prev_y + v * np.sin(theta) * dt\n",
        "\n",
        "  # Stock new true position\n",
        "  true_path[t] = [x,y,theta]\n",
        "\n",
        "\n",
        "  # --- 1.3. Simulation of the captors'perfect measures ---\n",
        "\n",
        "  def get_true_measurement(robot_pose , landmarks) :\n",
        "\n",
        "    \"\"\"\n",
        "    Calculate the perfect distance and angle of the robot to each landmarks\n",
        "    \"\"\"\n",
        "\n",
        "    measurements = []\n",
        "    rx , ry , rtheta = robot_pose\n",
        "\n",
        "    for landmark in landmarks :\n",
        "      lx, ly = landmark\n",
        "\n",
        "      # Euclidean distance\n",
        "      dist = np.sqrt((lx - rx)**2 + (ly - ry)**2)\n",
        "\n",
        "      # Angle to the landmark\n",
        "      angle_to_landmark = np.arctan2(ly - ry, lx - rx)\n",
        "\n",
        "      # Angle of the robot orientation (Bearing)\n",
        "      bearing = angle_to_landmark - rtheta\n",
        "\n",
        "      # Normalization of the bearing angle so it is in [-pi , +pi]\n",
        "      bearing = (bearing + np.pi) % (2 * np.pi) - np.pi\n",
        "\n",
        "      measurements.append([dist , bearing])\n",
        "\n",
        "    return np.array(measurements)\n",
        "\n",
        "\n",
        "# --- 1.4. Visualisation du monde simulé ---\n",
        "\n",
        "def plot_world(path , lanfdmarks) :\n",
        "  plt.figure(figsize=(10, 10))\n",
        "  plt.scatter(landmarks[:, 0], landmarks[:, 1], marker='*', s=200, color='red', label='Landmarks')\n",
        "  plt.plot(path[:, 0], path[:, 1], 'b-', label='True Trajectory')\n",
        "\n",
        "  # Draw an arrow to show final orientation of the robot\n",
        "  final_pose = path[-1]\n",
        "  plt.quiver(final_pose[0], final_pose[1], np.cos(final_pose[2]), np.sin(final_pose[2]),\n",
        "               color='blue', scale=10, width=0.005, label='Final Pose')\n",
        "\n",
        "  plt.xlabel('X (m)')\n",
        "  plt.ylabel('Y (m)')\n",
        "  plt.title('Ground Truth')\n",
        "  plt.grid(True)\n",
        "  plt.axis('equal')\n",
        "  plt.legend()\n",
        "  plt.show()\n",
        "\n",
        "# Display the world\n",
        "plot_world(true_path , landmarks)"
      ],
      "metadata": {
        "colab": {
          "base_uri": "https://localhost:8080/",
          "height": 872
        },
        "id": "9CkW_agOdjIW",
        "outputId": "1d08794f-01d5-4236-fd1b-ab7200ab445e"
      },
      "execution_count": null,
      "outputs": [
        {
          "output_type": "display_data",
          "data": {
            "text/plain": [
              "<Figure size 1000x1000 with 1 Axes>"
            ],
            "image/png": "[encoded data removed]"
          },
          "metadata": {}
        }
      ]
    },
    {
      "cell_type": "markdown",
      "source": [
        "# **Step 2 : Uncertainties modelisation**\n",
        "# Objective\n",
        "\n",
        "Make our simulation as much realist as possible. In real life, actions and perceptions of the robot are imperfect. We will simulate these imperfections by introducing two types of *Gaussian noises* :\n",
        "\n",
        "\n",
        "\n",
        "*   *Movement noise (on controls)* : Motors are not perfect. When a speed control is sent to the robot, it doesnt execute it perfectly. This provokes a position drift (the position which is estimated by odometry). We will simulate this by adding noises to the speed commands 𝑣 and ω.\n",
        "*   *Measure noise (on captors)* : captors such as lasers, camera are not perfect. They provide measures with a certain amount of error. We will simulate this by adding\n",
        "\n"
      ],
      "metadata": {
        "id": "FL_eEbEWnoSa"
      }
    }
  ]
}